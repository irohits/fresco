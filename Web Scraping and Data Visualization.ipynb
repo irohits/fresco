{
 "cells": [
  {
   "cell_type": "markdown",
   "metadata": {},
   "source": [
    "# Mini Project on EDA and Visualization"
   ]
  },
  {
   "cell_type": "markdown",
   "metadata": {},
   "source": [
    "Welcome to the Use Case Challenge, In this Scenario,You are supposed to perform a EDA and Visualization on Top100 list of Cryptocurrencies dataset."
   ]
  },
  {
   "cell_type": "markdown",
   "metadata": {},
   "source": [
    "**Instructions:**\n",
    "- Add Extra cells for coding if neccessary.\n",
    "- Finally restart kernel and run all the cells after the completion of the challenge."
   ]
  },
  {
   "cell_type": "markdown",
   "metadata": {},
   "source": [
    "### Run the below cell to import the dataset file and the basic neccessary packages"
   ]
  },
  {
   "cell_type": "markdown",
   "metadata": {},
   "source": [
    "**Note:** These are the essential packages required to complete this task, please select appropriate modules from the packages listed below to complete the task depending on the specified situations."
   ]
  },
  {
   "cell_type": "code",
   "execution_count": 1,
   "metadata": {},
   "outputs": [
    {
     "name": "stdout",
     "output_type": "stream",
     "text": [
      "--2021-11-11 13:25:24--  https://hr-projects-assets-prod.s3.amazonaws.com/ct7fl6bona6/b1093f2c1c57d266329c1cce18ee34ad/Data.csv\n",
      "Resolving hr-projects-assets-prod.s3.amazonaws.com (hr-projects-assets-prod.s3.amazonaws.com)... 52.217.205.89\n",
      "Connecting to hr-projects-assets-prod.s3.amazonaws.com (hr-projects-assets-prod.s3.amazonaws.com)|52.217.205.89|:443... connected.\n",
      "HTTP request sent, awaiting response... 200 OK\n",
      "Length: 6102 (6.0K) [binary/octet-stream]\n",
      "Saving to: ‘Data.csv’\n",
      "\n",
      "Data.csv            100%[===================>]   5.96K  --.-KB/s    in 0s      \n",
      "\n",
      "2021-11-11 13:25:25 (163 MB/s) - ‘Data.csv’ saved [6102/6102]\n",
      "\n"
     ]
    }
   ],
   "source": [
    "!wget https://hr-projects-assets-prod.s3.amazonaws.com/ct7fl6bona6/b1093f2c1c57d266329c1cce18ee34ad/Data.csv"
   ]
  },
  {
   "cell_type": "code",
   "execution_count": 2,
   "metadata": {},
   "outputs": [],
   "source": [
    "import pandas as pd\n",
    "import numpy as np\n",
    "import matplotlib.pyplot as plt\n",
    "import seaborn as sns"
   ]
  },
  {
   "cell_type": "markdown",
   "metadata": {},
   "source": [
    "### Load the Dataset"
   ]
  },
  {
   "cell_type": "markdown",
   "metadata": {},
   "source": [
    "**Note:**\n",
    "- Read the dataset only from the Data.csv file and save it in the variable df.\n",
    "- Don't use other data files like Data.csv.1, Data.csv.2, Data.csv.3,.....etc"
   ]
  },
  {
   "cell_type": "code",
   "execution_count": 3,
   "metadata": {},
   "outputs": [
    {
     "data": {
      "text/html": [
       "<div>\n",
       "<style scoped>\n",
       "    .dataframe tbody tr th:only-of-type {\n",
       "        vertical-align: middle;\n",
       "    }\n",
       "\n",
       "    .dataframe tbody tr th {\n",
       "        vertical-align: top;\n",
       "    }\n",
       "\n",
       "    .dataframe thead th {\n",
       "        text-align: right;\n",
       "    }\n",
       "</style>\n",
       "<table border=\"1\" class=\"dataframe\">\n",
       "  <thead>\n",
       "    <tr style=\"text-align: right;\">\n",
       "      <th></th>\n",
       "      <th>Rank</th>\n",
       "      <th>Currency_Name</th>\n",
       "      <th>Market_Capital</th>\n",
       "      <th>Price</th>\n",
       "      <th>Circulating_Supply</th>\n",
       "      <th>Volume(24h)</th>\n",
       "      <th>Change(24h)</th>\n",
       "    </tr>\n",
       "  </thead>\n",
       "  <tbody>\n",
       "    <tr>\n",
       "      <th>0</th>\n",
       "      <td>1</td>\n",
       "      <td>Bitcoin</td>\n",
       "      <td>6.021918e+10</td>\n",
       "      <td>3631.72</td>\n",
       "      <td>1.658145e+07</td>\n",
       "      <td>1.226800e+09</td>\n",
       "      <td>-0.0084</td>\n",
       "    </tr>\n",
       "    <tr>\n",
       "      <th>1</th>\n",
       "      <td>2</td>\n",
       "      <td>Ethereum</td>\n",
       "      <td>2.506128e+10</td>\n",
       "      <td>264.44</td>\n",
       "      <td>9.477220e+07</td>\n",
       "      <td>4.625760e+08</td>\n",
       "      <td>0.0132</td>\n",
       "    </tr>\n",
       "    <tr>\n",
       "      <th>2</th>\n",
       "      <td>3</td>\n",
       "      <td>Bitcoin Cash</td>\n",
       "      <td>6.815418e+09</td>\n",
       "      <td>410.47</td>\n",
       "      <td>1.660378e+07</td>\n",
       "      <td>2.608570e+08</td>\n",
       "      <td>-0.0322</td>\n",
       "    </tr>\n",
       "    <tr>\n",
       "      <th>3</th>\n",
       "      <td>4</td>\n",
       "      <td>Ripple</td>\n",
       "      <td>6.646330e+09</td>\n",
       "      <td>0.17</td>\n",
       "      <td>3.834384e+10</td>\n",
       "      <td>4.194500e+07</td>\n",
       "      <td>-0.0042</td>\n",
       "    </tr>\n",
       "    <tr>\n",
       "      <th>4</th>\n",
       "      <td>5</td>\n",
       "      <td>Dash</td>\n",
       "      <td>2.607961e+09</td>\n",
       "      <td>344.36</td>\n",
       "      <td>7.573378e+06</td>\n",
       "      <td>9.714230e+07</td>\n",
       "      <td>0.0362</td>\n",
       "    </tr>\n",
       "    <tr>\n",
       "      <th>...</th>\n",
       "      <td>...</td>\n",
       "      <td>...</td>\n",
       "      <td>...</td>\n",
       "      <td>...</td>\n",
       "      <td>...</td>\n",
       "      <td>...</td>\n",
       "      <td>...</td>\n",
       "    </tr>\n",
       "    <tr>\n",
       "      <th>95</th>\n",
       "      <td>96</td>\n",
       "      <td>SaluS</td>\n",
       "      <td>1.227689e+07</td>\n",
       "      <td>12.23</td>\n",
       "      <td>1.004195e+06</td>\n",
       "      <td>5.140800e+04</td>\n",
       "      <td>-0.0408</td>\n",
       "    </tr>\n",
       "    <tr>\n",
       "      <th>96</th>\n",
       "      <td>97</td>\n",
       "      <td>Groestlcoin</td>\n",
       "      <td>1.221101e+07</td>\n",
       "      <td>0.18</td>\n",
       "      <td>6.843890e+07</td>\n",
       "      <td>1.205620e+06</td>\n",
       "      <td>-0.0453</td>\n",
       "    </tr>\n",
       "    <tr>\n",
       "      <th>97</th>\n",
       "      <td>98</td>\n",
       "      <td>BlackCoin</td>\n",
       "      <td>1.220832e+07</td>\n",
       "      <td>0.16</td>\n",
       "      <td>7.638651e+07</td>\n",
       "      <td>3.244790e+05</td>\n",
       "      <td>-0.0181</td>\n",
       "    </tr>\n",
       "    <tr>\n",
       "      <th>98</th>\n",
       "      <td>99</td>\n",
       "      <td>Golos</td>\n",
       "      <td>1.182068e+07</td>\n",
       "      <td>0.09</td>\n",
       "      <td>1.245189e+08</td>\n",
       "      <td>1.248200e+04</td>\n",
       "      <td>-0.0569</td>\n",
       "    </tr>\n",
       "    <tr>\n",
       "      <th>99</th>\n",
       "      <td>100</td>\n",
       "      <td>GridCoin</td>\n",
       "      <td>1.181625e+07</td>\n",
       "      <td>0.03</td>\n",
       "      <td>3.903128e+08</td>\n",
       "      <td>2.763270e+05</td>\n",
       "      <td>-0.0520</td>\n",
       "    </tr>\n",
       "  </tbody>\n",
       "</table>\n",
       "<p>100 rows × 7 columns</p>\n",
       "</div>"
      ],
      "text/plain": [
       "    Rank Currency_Name  Market_Capital    Price  Circulating_Supply  \\\n",
       "0      1       Bitcoin    6.021918e+10  3631.72        1.658145e+07   \n",
       "1      2      Ethereum    2.506128e+10   264.44        9.477220e+07   \n",
       "2      3  Bitcoin Cash    6.815418e+09   410.47        1.660378e+07   \n",
       "3      4        Ripple    6.646330e+09     0.17        3.834384e+10   \n",
       "4      5          Dash    2.607961e+09   344.36        7.573378e+06   \n",
       "..   ...           ...             ...      ...                 ...   \n",
       "95    96         SaluS    1.227689e+07    12.23        1.004195e+06   \n",
       "96    97   Groestlcoin    1.221101e+07     0.18        6.843890e+07   \n",
       "97    98     BlackCoin    1.220832e+07     0.16        7.638651e+07   \n",
       "98    99         Golos    1.182068e+07     0.09        1.245189e+08   \n",
       "99   100      GridCoin    1.181625e+07     0.03        3.903128e+08   \n",
       "\n",
       "     Volume(24h)  Change(24h)  \n",
       "0   1.226800e+09      -0.0084  \n",
       "1   4.625760e+08       0.0132  \n",
       "2   2.608570e+08      -0.0322  \n",
       "3   4.194500e+07      -0.0042  \n",
       "4   9.714230e+07       0.0362  \n",
       "..           ...          ...  \n",
       "95  5.140800e+04      -0.0408  \n",
       "96  1.205620e+06      -0.0453  \n",
       "97  3.244790e+05      -0.0181  \n",
       "98  1.248200e+04      -0.0569  \n",
       "99  2.763270e+05      -0.0520  \n",
       "\n",
       "[100 rows x 7 columns]"
      ]
     },
     "execution_count": 3,
     "metadata": {},
     "output_type": "execute_result"
    }
   ],
   "source": [
    "#Write your code here\n",
    "df = pd.read_csv('Data.csv')\n",
    "df"
   ]
  },
  {
   "cell_type": "markdown",
   "metadata": {},
   "source": [
    "## Question 1"
   ]
  },
  {
   "cell_type": "markdown",
   "metadata": {},
   "source": [
    "### Extract the first 3 rows of your dataframe then convert it into dictionary with the column names as the key values and their values as list into a dictionary then assign to A1 variable."
   ]
  },
  {
   "cell_type": "markdown",
   "metadata": {},
   "source": [
    "\n",
    "**Note:** The output must be in the following format\n",
    "\n",
    "        {Column_Name : List}\n",
    "        \n",
    "**Example**\n",
    "\n",
    "        { 'S.no' : [1,2,3,4],\n",
    "          'Name' : ['GridCoin','Golos','BlackCion','Groestlcoin']\n",
    "           ........}\n",
    "           "
   ]
  },
  {
   "cell_type": "code",
   "execution_count": 5,
   "metadata": {},
   "outputs": [
    {
     "data": {
      "text/plain": [
       "{'Rank': [1, 2, 3],\n",
       " 'Currency_Name': ['Bitcoin', 'Ethereum', 'Bitcoin Cash'],\n",
       " 'Market_Capital': [60219183594.0, 25061275598.0, 6815417939.0],\n",
       " 'Price': [3631.72, 264.44, 410.47],\n",
       " 'Circulating_Supply': [16581450.0, 94772198.0, 16603775.0],\n",
       " 'Volume(24h)': [1226800000.0, 462576000.0, 260857000.0],\n",
       " 'Change(24h)': [-0.0084, 0.0132, -0.0322]}"
      ]
     },
     "execution_count": 5,
     "metadata": {},
     "output_type": "execute_result"
    }
   ],
   "source": [
    "#Write your code here\n",
    "A1 = df.iloc[:3].to_dict('list')\n",
    "A1"
   ]
  },
  {
   "cell_type": "markdown",
   "metadata": {},
   "source": [
    "## Question 2"
   ]
  },
  {
   "cell_type": "markdown",
   "metadata": {},
   "source": [
    "### Return the Curreny_Name which has highest value in Price column and assign to A2 varaible."
   ]
  },
  {
   "cell_type": "markdown",
   "metadata": {},
   "source": [
    "**Note:** The Output must be String\n"
   ]
  },
  {
   "cell_type": "code",
   "execution_count": 7,
   "metadata": {},
   "outputs": [
    {
     "data": {
      "text/plain": [
       "'Bitcoin'"
      ]
     },
     "execution_count": 7,
     "metadata": {},
     "output_type": "execute_result"
    }
   ],
   "source": [
    "#Write your code here\n",
    "a=max(A1['Price'])\n",
    "b=A1['Price'].index(a)\n",
    "A2=A1['Currency_Name'][b]\n",
    "A2\n",
    "\n",
    "#A2=df.loc[df['Price'] == df['Price'].max(), 'Currency_Name']"
   ]
  },
  {
   "cell_type": "markdown",
   "metadata": {},
   "source": [
    "## Question 3"
   ]
  },
  {
   "cell_type": "markdown",
   "metadata": {},
   "source": [
    "### Return the mean value of the Change(24h) column and assign to A3 variable."
   ]
  },
  {
   "cell_type": "markdown",
   "metadata": {},
   "source": [
    "**Note:** The Output must be Float value"
   ]
  },
  {
   "cell_type": "code",
   "execution_count": 8,
   "metadata": {},
   "outputs": [
    {
     "data": {
      "text/plain": [
       "0.013364000000000003"
      ]
     },
     "execution_count": 8,
     "metadata": {},
     "output_type": "execute_result"
    }
   ],
   "source": [
    "#Write your code here\n",
    "A3=df[\"Change(24h)\"].mean()\n",
    "A3"
   ]
  },
  {
   "cell_type": "markdown",
   "metadata": {},
   "source": [
    "## Question 4"
   ]
  },
  {
   "cell_type": "markdown",
   "metadata": {},
   "source": [
    "### Return the sorted (Ascending order) list of currency names which are having Market_Capital greater than '2000000000'  and Price greater than or equal to '200'. Assign to A4 variable.\n"
   ]
  },
  {
   "cell_type": "markdown",
   "metadata": {},
   "source": [
    "**Note:** The Output must be list"
   ]
  },
  {
   "cell_type": "code",
   "execution_count": 9,
   "metadata": {},
   "outputs": [
    {
     "data": {
      "text/plain": [
       "['Bitcoin', 'Bitcoin Cash', 'Dash', 'Ethereum']"
      ]
     },
     "execution_count": 9,
     "metadata": {},
     "output_type": "execute_result"
    }
   ],
   "source": [
    "#Write your code here\n",
    "A4=list(df.loc[(df['Market_Capital'] > 2000000000) & (df['Price'] >= 200), 'Currency_Name'].sort_values(ascending=True))\n",
    "A4"
   ]
  },
  {
   "cell_type": "markdown",
   "metadata": {},
   "source": [
    "## Question 5"
   ]
  },
  {
   "cell_type": "markdown",
   "metadata": {},
   "source": [
    "### Return the lowest value in Volume(24h) column and Assign to A5 variable."
   ]
  },
  {
   "cell_type": "markdown",
   "metadata": {},
   "source": [
    "**Note:** Output must be Float value."
   ]
  },
  {
   "cell_type": "code",
   "execution_count": 10,
   "metadata": {},
   "outputs": [
    {
     "data": {
      "text/plain": [
       "4460.0"
      ]
     },
     "execution_count": 10,
     "metadata": {},
     "output_type": "execute_result"
    }
   ],
   "source": [
    "#Write your code here\n",
    "A5=df['Volume(24h)'].min()\n",
    "A5"
   ]
  },
  {
   "cell_type": "markdown",
   "metadata": {},
   "source": [
    "## Question 6"
   ]
  },
  {
   "cell_type": "markdown",
   "metadata": {},
   "source": [
    "### Draw the Heatmap with correlation between Rank, Marcket Captial, Price, Circulating_Supply, Volume(24h) and Change(24h). Assign to A6 variable."
   ]
  },
  {
   "cell_type": "markdown",
   "metadata": {},
   "source": [
    "**Instructions:**\n",
    "- Use seaborn\n",
    "- Create a figure with figsize(15,8)\n",
    "- xlabel,ylabel,title must be present\n",
    "- Plot the heatmap"
   ]
  },
  {
   "cell_type": "markdown",
   "metadata": {},
   "source": [
    "**Sample Plot image:**\n",
    "<img src='Sample_images/pic6.png' style='width:400px;height:300px'>"
   ]
  },
  {
   "cell_type": "code",
   "execution_count": 94,
   "metadata": {},
   "outputs": [
    {
     "data": {
      "image/png": "[encoded data removed]",
      "text/plain": [
       "<Figure size 1080x576 with 2 Axes>"
      ]
     },
     "metadata": {
      "needs_background": "light"
     },
     "output_type": "display_data"
    }
   ],
   "source": [
    "%matplotlib inline\n",
    "#Write your code here\n",
    "fig, ax = plt.subplots(figsize=(15,8))\n",
    "\n",
    "data=df[['Rank', \"Market_Capital\", \"Price\", \"Circulating_Supply\", \"Volume(24h)\", \"Change(24h)\"]].corr()\n",
    "\n",
    "ax.set(title=\"Heatmap correlation\",\n",
    "      xlabel=\"X - Axis\",\n",
    "      ylabel=\"Y - Axis\")\n",
    "#sns.set(font_scale=0.1)\n",
    "\n",
    "# Plot the Heatmap with axes (ax) and assign the returned object(path collection) to q6\n",
    "q6 = sns.heatmap(data, annot=True)\n",
    "\n",
    "plt.xlabel('X-axis') # x-axis label with fontsize 15\n",
    "plt.ylabel('Y-axis')\n",
    "plt.show()\n",
    "#Assigning the object to A6 for validation\n",
    "A6=q6"
   ]
  },
  {
   "cell_type": "markdown",
   "metadata": {},
   "source": [
    "## Question 7"
   ]
  },
  {
   "cell_type": "markdown",
   "metadata": {},
   "source": [
    "### Draw the barplot containing Top 10 currency names with highest Market Capital And Assign to A7 variable.\n",
    "   "
   ]
  },
  {
   "cell_type": "markdown",
   "metadata": {},
   "source": [
    "**Instructions:**\n",
    "- Use Seaborn\n",
    "- Order the cryptocurrencies is must be in Descending order (i.e,bar corresponding to cryptocurrency with highest market value must be on top of bar plot).\n",
    "- xlabel,ylabel,title must be present\n",
    "- Plot the barplot"
   ]
  },
  {
   "cell_type": "markdown",
   "metadata": {},
   "source": [
    "**Sample Plot image:**\n",
    "<img src='Sample_images/pic7.png' style='width:400px;height:300px'>"
   ]
  },
  {
   "cell_type": "code",
   "execution_count": 95,
   "metadata": {},
   "outputs": [
    {
     "data": {
      "image/png": "[encoded data removed]",
      "text/plain": [
       "<Figure size 576x576 with 1 Axes>"
      ]
     },
     "metadata": {
      "needs_background": "light"
     },
     "output_type": "display_data"
    }
   ],
   "source": [
    "#Write your code here\n",
    "fig7, ax7 = plt.subplots(figsize=(8,8))\n",
    "\n",
    "ax7.set(title=\"barplot containing Top 10 currency names with highest Market Capital \",\n",
    "      xlabel=\"Market_Capital\",\n",
    "      ylabel=\"Currency_Name\")\n",
    "\n",
    "#df_copy['Currency_Name'].duplicated().sum()\n",
    "top_10=df[['Currency_Name', 'Market_Capital']].sort_values(by='Market_Capital', ascending=False)\n",
    "top_10=top_10.head(10)\n",
    "\n",
    "# Plot the countplot with axes (ax7) and assign the returned object(path collection) to q7\n",
    "\n",
    "q7 = ax7.barh(top_10['Currency_Name'],top_10['Market_Capital'],color='rgbkymc')\n",
    "ax7.invert_yaxis()\n",
    "plt.show()\n",
    "#Assigning the object,axes to A7 for validation\n",
    "A7=[q7,ax7]"
   ]
  },
  {
   "cell_type": "markdown",
   "metadata": {},
   "source": [
    "## Question 8"
   ]
  },
  {
   "cell_type": "markdown",
   "metadata": {},
   "source": [
    "### Draw the violinplot that represents the graph of Change(24h). And Assign the variable to A8."
   ]
  },
  {
   "cell_type": "markdown",
   "metadata": {},
   "source": [
    "**Instructions:**\n",
    "- Use seaborn\n",
    "- Change(24h) should be in the y-axis\n",
    "- xlabel,ylabel,title must be present\n",
    "- Plot the violinplot\n"
   ]
  },
  {
   "cell_type": "markdown",
   "metadata": {},
   "source": [
    "**Sample Plot image:**\n",
    "<img src='Sample_images/pic8.png' style='width:400px;height:300px'>"
   ]
  },
  {
   "cell_type": "code",
   "execution_count": 96,
   "metadata": {},
   "outputs": [
    {
     "data": {
      "image/png": "[encoded data removed]",
      "text/plain": [
       "<Figure size 576x576 with 1 Axes>"
      ]
     },
     "metadata": {
      "needs_background": "light"
     },
     "output_type": "display_data"
    }
   ],
   "source": [
    "#Write your code here\n",
    "fig8, ax8 = plt.subplots(figsize=(8,8))\n",
    "# Plot the violinplot with axes (ax8) and assign the returned object(path collection) to q8\n",
    "\n",
    "ax8.set(title=\"violinplot for Change(24h)\",\n",
    "      xlabel=\"X - Axis\",\n",
    "      ylabel=\"Y - Axis\")\n",
    "\n",
    "q8 = sns.violinplot(x=df[\"Change(24h)\"], orient =\"v\")\n",
    "\n",
    "plt.ylabel('Y-axis')\n",
    "plt.show()\n",
    "#Assigning the object to A8 for validation\n",
    "A8=q8\n"
   ]
  },
  {
   "cell_type": "markdown",
   "metadata": {},
   "source": [
    "## Question 9"
   ]
  },
  {
   "cell_type": "markdown",
   "metadata": {},
   "source": [
    "### Draw a scatterplot that represents the relation between Price and Market Capital. And Assign to A9 variable."
   ]
  },
  {
   "cell_type": "markdown",
   "metadata": {},
   "source": [
    "**Instructions:**\n",
    "- use seaborn\n",
    "- Consider data as 50 Cryptocurrencies, with higest Market Value\n",
    "- xlabel,ylabel,title must be present\n",
    "- Plot the Scatterplot"
   ]
  },
  {
   "cell_type": "markdown",
   "metadata": {},
   "source": [
    "**Sample Plot image:**\n",
    "<img src='Sample_images/pic9.png' style='width:400px;height:300px'>"
   ]
  },
  {
   "cell_type": "code",
   "execution_count": 97,
   "metadata": {},
   "outputs": [
    {
     "data": {
      "image/png": "[encoded data removed]",
      "text/plain": [
       "<Figure size 576x576 with 1 Axes>"
      ]
     },
     "metadata": {
      "needs_background": "light"
     },
     "output_type": "display_data"
    }
   ],
   "source": [
    "#Write your code here\n",
    "fig9, ax9 = plt.subplots(figsize=(8,8))\n",
    "# Plot the scatterplot with axes (ax9) and assign the returned object(path collection) to q9\n",
    "\n",
    "ax9.set(title=\"scatterplot between Price and Market Capital\",\n",
    "      xlabel=\"Market Capital\",\n",
    "      ylabel=\"Price\")\n",
    "\n",
    "q9 = ax9.scatter(df['Price'], df['Market_Capital'],alpha=0.5)\n",
    "\n",
    "plt.show()\n",
    "#Assigning the object to A9 for validation\n",
    "A9=q9"
   ]
  },
  {
   "cell_type": "markdown",
   "metadata": {},
   "source": [
    "## Question 10"
   ]
  },
  {
   "cell_type": "markdown",
   "metadata": {},
   "source": [
    "### Draw the barplot containing Top 10 currency names with Change(24h) in descending order And Assign to A10 variable."
   ]
  },
  {
   "cell_type": "markdown",
   "metadata": {},
   "source": [
    "**Instructions:**\n",
    "- Use Seaborn\n",
    "- xlabel,ylabel,title must be present\n",
    "- Plot the barplot"
   ]
  },
  {
   "cell_type": "markdown",
   "metadata": {},
   "source": [
    "**Sample Plot image:**\n",
    "<img src='Sample_images/pic10.png' style='width:400px;height:300px'>"
   ]
  },
  {
   "cell_type": "code",
   "execution_count": 98,
   "metadata": {},
   "outputs": [
    {
     "data": {
      "image/png": "[encoded data removed]",
      "text/plain": [
       "<Figure size 576x576 with 1 Axes>"
      ]
     },
     "metadata": {
      "needs_background": "light"
     },
     "output_type": "display_data"
    }
   ],
   "source": [
    "import matplotlib.cm as cm\n",
    "from matplotlib.colors import Normalize\n",
    "# Get a color map\n",
    "my_cmap = cm.get_cmap('jet')\n",
    "cd= [2, 3, 5, 6, 8, 12, 7, 5,10,20]\n",
    "\n",
    "# Get normalize function (takes data in range [vmin, vmax] -> [0, 1])\n",
    "my_norm = Normalize(vmin=0, vmax=8)\n",
    "\n",
    "#Write your code here\n",
    "fig10, ax10 = plt.subplots(figsize=(8,8))\n",
    "\n",
    "ax10.set(title=\"Barplot\",\n",
    "      xlabel=\"Change(24h)\",\n",
    "      ylabel=\"Currency_Name\")\n",
    "\n",
    "top_10_c=df[['Currency_Name', 'Change(24h)']].sort_values(by='Change(24h)', ascending=False)\n",
    "top_10_c=top_10_c.head(10)\n",
    "top_10_c\n",
    "\n",
    "# Plot the barplot with axes (ax10) and assign the returned object(path collection) to q10\n",
    "q10 = ax10.barh(top_10_c['Currency_Name'],top_10_c['Change(24h)'],color=my_cmap(my_norm(cd)))\n",
    "ax10.invert_yaxis()\n",
    "plt.show()\n",
    "#Assigning the object,axes to A10 for validation\n",
    "A10=[q10,ax10]"
   ]
  },
  {
   "cell_type": "markdown",
   "metadata": {},
   "source": [
    "## Run the below cells to save your output files"
   ]
  },
  {
   "cell_type": "code",
   "execution_count": 99,
   "metadata": {},
   "outputs": [],
   "source": [
    "import pickle\n",
    "import hashlib\n",
    "\n",
    "def save_output(Top100_List, obj):\n",
    "    with open(Top100_List,'wb')as f:\n",
    "        pickle.dump(obj,f,pickle.HIGHEST_PROTOCOL)   \n",
    "\n",
    "def hashit(obj):\n",
    "        obj = str(obj).encode()\n",
    "        m = hashlib.md5()\n",
    "        m.update(bytes(obj))\n",
    "        return m.hexdigest()\n",
    "\n",
    "##Saving outputs\n",
    "\n",
    "save_output(\"A1.pckl\", A1)\n",
    "save_output(\"A2.pckl\", A2)\n",
    "save_output(\"A3.pckl\", A3)\n",
    "save_output(\"A4.pckl\", A4)\n",
    "save_output(\"A5.pckl\", A5)\n",
    "save_output(\"A6.pckl\", A6)\n",
    "save_output(\"A7.pckl\", A7)\n",
    "save_output(\"A8.pckl\", A8)\n",
    "save_output(\"A9.pckl\", A9)\n",
    "save_output(\"A10.pckl\", A10)\n"
   ]
  },
  {
   "cell_type": "code",
   "execution_count": null,
   "metadata": {},
   "outputs": [],
   "source": []
  },
  {
   "cell_type": "code",
   "execution_count": null,
   "metadata": {},
   "outputs": [],
   "source": []
  },
  {
   "cell_type": "code",
   "execution_count": null,
   "metadata": {},
   "outputs": [],
   "source": []
  }
 ],
 "metadata": {
  "kernelspec": {
   "display_name": "Python 3",
   "language": "python",
   "name": "python3"
  },
  "language_info": {
   "codemirror_mode": {
    "name": "ipython",
    "version": 3
   },
   "file_extension": ".py",
   "mimetype": "text/x-python",
   "name": "python",
   "nbconvert_exporter": "python",
   "pygments_lexer": "ipython3",
   "version": "3.7.8"
  }
 },
 "nbformat": 4,
 "nbformat_minor": 5
}
